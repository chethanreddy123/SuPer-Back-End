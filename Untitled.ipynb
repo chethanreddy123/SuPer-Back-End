{
 "cells": [
  {
   "cell_type": "markdown",
   "id": "ffb3cf17",
   "metadata": {},
   "source": [
    "## In-Built Functions"
   ]
  },
  {
   "cell_type": "code",
   "execution_count": null,
   "id": "44c4a246",
   "metadata": {},
   "outputs": [],
   "source": [
    "abs -> absolute"
   ]
  },
  {
   "cell_type": "code",
   "execution_count": 10,
   "id": "59ad14c9",
   "metadata": {},
   "outputs": [
    {
     "name": "stdout",
     "output_type": "stream",
     "text": [
      "1\n"
     ]
    }
   ],
   "source": [
    "a = 1\n",
    "print(abs(a))"
   ]
  },
  {
   "cell_type": "code",
   "execution_count": 11,
   "id": "2229591f",
   "metadata": {},
   "outputs": [
    {
     "name": "stdout",
     "output_type": "stream",
     "text": [
      "1\n"
     ]
    }
   ],
   "source": [
    "a = -1\n",
    "print(abs(a))"
   ]
  },
  {
   "cell_type": "code",
   "execution_count": null,
   "id": "c8d9caaa",
   "metadata": {},
   "outputs": [],
   "source": [
    "and , or # Keywords"
   ]
  },
  {
   "cell_type": "code",
   "execution_count": 12,
   "id": "fdc33afe",
   "metadata": {},
   "outputs": [
    {
     "name": "stdout",
     "output_type": "stream",
     "text": [
      "True\n"
     ]
    }
   ],
   "source": [
    "print(True and True)"
   ]
  },
  {
   "cell_type": "code",
   "execution_count": 13,
   "id": "cd7a8297",
   "metadata": {},
   "outputs": [
    {
     "name": "stdout",
     "output_type": "stream",
     "text": [
      "True\n"
     ]
    }
   ],
   "source": [
    "mom = True\n",
    "dad = True\n",
    "print(mom and dad)"
   ]
  },
  {
   "cell_type": "code",
   "execution_count": 14,
   "id": "05e1b41d",
   "metadata": {},
   "outputs": [
    {
     "name": "stdout",
     "output_type": "stream",
     "text": [
      "False\n"
     ]
    }
   ],
   "source": [
    "mom = True\n",
    "dad = False\n",
    "print(mom and dad)"
   ]
  },
  {
   "cell_type": "code",
   "execution_count": 15,
   "id": "16ec8e84",
   "metadata": {},
   "outputs": [
    {
     "name": "stdout",
     "output_type": "stream",
     "text": [
      "False\n"
     ]
    }
   ],
   "source": [
    "mom = False\n",
    "dad = False\n",
    "print(mom and dad)"
   ]
  },
  {
   "cell_type": "code",
   "execution_count": 16,
   "id": "b9afba46",
   "metadata": {},
   "outputs": [
    {
     "name": "stdout",
     "output_type": "stream",
     "text": [
      "True\n"
     ]
    }
   ],
   "source": [
    "mom = True\n",
    "dad = True\n",
    "print(mom or dad)"
   ]
  },
  {
   "cell_type": "code",
   "execution_count": 17,
   "id": "dbf0e1af",
   "metadata": {},
   "outputs": [
    {
     "name": "stdout",
     "output_type": "stream",
     "text": [
      "True\n"
     ]
    }
   ],
   "source": [
    "mom = False\n",
    "dad = True\n",
    "print(mom or dad)"
   ]
  },
  {
   "cell_type": "code",
   "execution_count": 18,
   "id": "8cdbcc8f",
   "metadata": {},
   "outputs": [
    {
     "name": "stdout",
     "output_type": "stream",
     "text": [
      "False\n"
     ]
    }
   ],
   "source": [
    "mom = False\n",
    "dad = False\n",
    "print(mom or dad)"
   ]
  },
  {
   "cell_type": "code",
   "execution_count": 19,
   "id": "c3854121",
   "metadata": {},
   "outputs": [
    {
     "name": "stdout",
     "output_type": "stream",
     "text": [
      "True\n"
     ]
    }
   ],
   "source": [
    "L = [True, False, True, True, False]\n",
    "print(any(L))"
   ]
  },
  {
   "cell_type": "code",
   "execution_count": 20,
   "id": "0e27cf79",
   "metadata": {},
   "outputs": [
    {
     "name": "stdout",
     "output_type": "stream",
     "text": [
      "False\n"
     ]
    }
   ],
   "source": [
    "L = [True, False, True, True, False]\n",
    "print(all(L))"
   ]
  },
  {
   "cell_type": "code",
   "execution_count": 21,
   "id": "e0182d57",
   "metadata": {},
   "outputs": [
    {
     "name": "stdout",
     "output_type": "stream",
     "text": [
      "True\n"
     ]
    }
   ],
   "source": [
    "L = [True, True, True]\n",
    "print(all(L))"
   ]
  },
  {
   "cell_type": "code",
   "execution_count": 22,
   "id": "7c01b43f",
   "metadata": {},
   "outputs": [
    {
     "name": "stdout",
     "output_type": "stream",
     "text": [
      "'b'\n"
     ]
    }
   ],
   "source": [
    "a = 'b'\n",
    "print(ascii(a))"
   ]
  },
  {
   "cell_type": "code",
   "execution_count": 23,
   "id": "481b9bcc",
   "metadata": {},
   "outputs": [
    {
     "name": "stdout",
     "output_type": "stream",
     "text": [
      "97\n"
     ]
    }
   ],
   "source": [
    "print(ord('a'))"
   ]
  },
  {
   "cell_type": "code",
   "execution_count": 25,
   "id": "12b1a8e9",
   "metadata": {},
   "outputs": [
    {
     "name": "stdout",
     "output_type": "stream",
     "text": [
      "a\n"
     ]
    }
   ],
   "source": [
    "print(chr(97))"
   ]
  },
  {
   "cell_type": "code",
   "execution_count": 26,
   "id": "ddc3ea30",
   "metadata": {},
   "outputs": [
    {
     "name": "stdout",
     "output_type": "stream",
     "text": [
      "0b10101\n"
     ]
    }
   ],
   "source": [
    "number = 21\n",
    "print(bin(number))"
   ]
  },
  {
   "cell_type": "code",
   "execution_count": 27,
   "id": "6044b243",
   "metadata": {},
   "outputs": [
    {
     "data": {
      "text/plain": [
       "21"
      ]
     },
     "execution_count": 27,
     "metadata": {},
     "output_type": "execute_result"
    }
   ],
   "source": [
    "number = int('0b10101', 2)\n",
    "number"
   ]
  },
  {
   "cell_type": "code",
   "execution_count": 29,
   "id": "aee7ffbe",
   "metadata": {},
   "outputs": [
    {
     "name": "stdout",
     "output_type": "stream",
     "text": [
      "True\n"
     ]
    }
   ],
   "source": [
    "a = -1\n",
    "b = bool(a)\n",
    "print(b)"
   ]
  },
  {
   "cell_type": "code",
   "execution_count": 30,
   "id": "1dd596c7",
   "metadata": {},
   "outputs": [
    {
     "name": "stdout",
     "output_type": "stream",
     "text": [
      "False\n"
     ]
    }
   ],
   "source": [
    "a = 0\n",
    "b = bool(a)\n",
    "print(b)"
   ]
  },
  {
   "cell_type": "code",
   "execution_count": 31,
   "id": "a1531c86",
   "metadata": {},
   "outputs": [
    {
     "name": "stdout",
     "output_type": "stream",
     "text": [
      "True\n"
     ]
    }
   ],
   "source": [
    "a = 'vijay'\n",
    "b = bool(a)\n",
    "print(b)"
   ]
  },
  {
   "cell_type": "code",
   "execution_count": 32,
   "id": "087474e8",
   "metadata": {},
   "outputs": [
    {
     "name": "stdout",
     "output_type": "stream",
     "text": [
      "False\n"
     ]
    }
   ],
   "source": [
    "a = '' # NULL String\n",
    "b = bool(a)\n",
    "print(b)"
   ]
  },
  {
   "cell_type": "code",
   "execution_count": 33,
   "id": "3b263548",
   "metadata": {},
   "outputs": [
    {
     "name": "stdout",
     "output_type": "stream",
     "text": [
      "False\n"
     ]
    }
   ],
   "source": [
    "a = None\n",
    "b = bool(a)\n",
    "print(b)"
   ]
  },
  {
   "cell_type": "code",
   "execution_count": 35,
   "id": "86d2f94d",
   "metadata": {},
   "outputs": [
    {
     "name": "stdout",
     "output_type": "stream",
     "text": [
      "jack\n",
      "henry\n",
      "mark\n",
      "Luke\n",
      "Tyra\n",
      "Binny\n",
      "Rose\n",
      "Lara\n"
     ]
    }
   ],
   "source": [
    "L = ['jack' , 'henry' , 'mark' , 'Luke']\n",
    "B = ['Tyra' , 'Binny' , 'Rose' , 'Lara']\n",
    "for name in L:\n",
    "    print(name)\n",
    "    \n",
    "for name in B:\n",
    "    print(name)"
   ]
  },
  {
   "cell_type": "code",
   "execution_count": 36,
   "id": "61c45e94",
   "metadata": {},
   "outputs": [
    {
     "name": "stdout",
     "output_type": "stream",
     "text": [
      "jack Tyra\n",
      "henry Binny\n",
      "mark Rose\n",
      "Luke Lara\n"
     ]
    }
   ],
   "source": [
    "for i,j in zip(L,B):\n",
    "    print(i,j)"
   ]
  },
  {
   "cell_type": "code",
   "execution_count": 37,
   "id": "1599c8b8",
   "metadata": {},
   "outputs": [
    {
     "data": {
      "text/plain": [
       "{'__name__': '__main__',\n",
       " '__doc__': 'Automatically created module for IPython interactive environment',\n",
       " '__package__': None,\n",
       " '__loader__': None,\n",
       " '__spec__': None,\n",
       " '__builtin__': <module 'builtins' (built-in)>,\n",
       " '__builtins__': <module 'builtins' (built-in)>,\n",
       " '_ih': ['',\n",
       "  'def Fact(n):\\n    if n == 1 or n == 0:\\n        return 1\\n    else:\\n        return n * Fact(n-1)',\n",
       "  'res = Fact(3)\\nprint(res)',\n",
       "  'def Fact(n):\\n    if n == 1 or n == 0:\\n        return 1\\n    else:\\n        return n * Fact(n-1)',\n",
       "  'res = Fact(3)\\nprint(res)',\n",
       "  'Fact(0)',\n",
       "  'class main:\\n    a = 10\\n    def __init__(self, name):\\n        self.name = name',\n",
       "  \"s1 = main('jack')\\ns2 = main('elon')\\nprint(s1.a, s1.a)\",\n",
       "  's1.name , s2.name',\n",
       "  \"s1 = main('jack')\\ns2 = main('elon')\\nprint(s1.a, s2.a)\",\n",
       "  'a = 1\\nprint(abs(a))',\n",
       "  'a = -1\\nprint(abs(a))',\n",
       "  'print(True and True)',\n",
       "  'mom = True\\ndad = True\\nprint(mom and dad)',\n",
       "  'mom = True\\ndad = False\\nprint(mom and dad)',\n",
       "  'mom = False\\ndad = False\\nprint(mom and dad)',\n",
       "  'mom = True\\ndad = True\\nprint(mom or dad)',\n",
       "  'mom = False\\ndad = True\\nprint(mom or dad)',\n",
       "  'mom = False\\ndad = False\\nprint(mom or dad)',\n",
       "  'L = [True, False, True, True, False]\\nprint(any(L))',\n",
       "  'L = [True, False, True, True, False]\\nprint(all(L))',\n",
       "  'L = [True, True, True]\\nprint(all(L))',\n",
       "  \"a = 'b'\\nprint(ascii(a))\",\n",
       "  \"print(ord('a'))\",\n",
       "  'print(chr(97\\n         ))',\n",
       "  'print(chr(97))',\n",
       "  'number = 21\\nprint(bin(number))',\n",
       "  \"number = int('0b10101', 2)\\nnumber\",\n",
       "  'a = 1\\nb = bool(a)\\nprint(b)',\n",
       "  'a = -1\\nb = bool(a)\\nprint(b)',\n",
       "  'a = 0\\nb = bool(a)\\nprint(b)',\n",
       "  \"a = 'vijay'\\nb = bool(a)\\nprint(b)\",\n",
       "  \"a = '' # NULL String\\nb = bool(a)\\nprint(b)\",\n",
       "  'a = None\\nb = bool(a)\\nprint(b)',\n",
       "  \"L = ['jack' , 'henry' , 'mark' , 'Luke']\\nfor name in L:\\n    print(name)\",\n",
       "  \"L = ['jack' , 'henry' , 'mark' , 'Luke']\\nB = ['Tyra' , 'Binny' , 'Rose' , 'Lara']\\nfor name in L:\\n    print(name)\\n    \\nfor name in B:\\n    print(name)\",\n",
       "  'for i,j in zip(L,B):\\n    print(i,j)',\n",
       "  'vars()'],\n",
       " '_oh': {5: 1, 8: ('jack', 'elon'), 27: 21},\n",
       " '_dh': [WindowsPath('C:/Users/hp/Desktop/Personal Projects/Sirion Labs - Hackathon Project')],\n",
       " 'In': ['',\n",
       "  'def Fact(n):\\n    if n == 1 or n == 0:\\n        return 1\\n    else:\\n        return n * Fact(n-1)',\n",
       "  'res = Fact(3)\\nprint(res)',\n",
       "  'def Fact(n):\\n    if n == 1 or n == 0:\\n        return 1\\n    else:\\n        return n * Fact(n-1)',\n",
       "  'res = Fact(3)\\nprint(res)',\n",
       "  'Fact(0)',\n",
       "  'class main:\\n    a = 10\\n    def __init__(self, name):\\n        self.name = name',\n",
       "  \"s1 = main('jack')\\ns2 = main('elon')\\nprint(s1.a, s1.a)\",\n",
       "  's1.name , s2.name',\n",
       "  \"s1 = main('jack')\\ns2 = main('elon')\\nprint(s1.a, s2.a)\",\n",
       "  'a = 1\\nprint(abs(a))',\n",
       "  'a = -1\\nprint(abs(a))',\n",
       "  'print(True and True)',\n",
       "  'mom = True\\ndad = True\\nprint(mom and dad)',\n",
       "  'mom = True\\ndad = False\\nprint(mom and dad)',\n",
       "  'mom = False\\ndad = False\\nprint(mom and dad)',\n",
       "  'mom = True\\ndad = True\\nprint(mom or dad)',\n",
       "  'mom = False\\ndad = True\\nprint(mom or dad)',\n",
       "  'mom = False\\ndad = False\\nprint(mom or dad)',\n",
       "  'L = [True, False, True, True, False]\\nprint(any(L))',\n",
       "  'L = [True, False, True, True, False]\\nprint(all(L))',\n",
       "  'L = [True, True, True]\\nprint(all(L))',\n",
       "  \"a = 'b'\\nprint(ascii(a))\",\n",
       "  \"print(ord('a'))\",\n",
       "  'print(chr(97\\n         ))',\n",
       "  'print(chr(97))',\n",
       "  'number = 21\\nprint(bin(number))',\n",
       "  \"number = int('0b10101', 2)\\nnumber\",\n",
       "  'a = 1\\nb = bool(a)\\nprint(b)',\n",
       "  'a = -1\\nb = bool(a)\\nprint(b)',\n",
       "  'a = 0\\nb = bool(a)\\nprint(b)',\n",
       "  \"a = 'vijay'\\nb = bool(a)\\nprint(b)\",\n",
       "  \"a = '' # NULL String\\nb = bool(a)\\nprint(b)\",\n",
       "  'a = None\\nb = bool(a)\\nprint(b)',\n",
       "  \"L = ['jack' , 'henry' , 'mark' , 'Luke']\\nfor name in L:\\n    print(name)\",\n",
       "  \"L = ['jack' , 'henry' , 'mark' , 'Luke']\\nB = ['Tyra' , 'Binny' , 'Rose' , 'Lara']\\nfor name in L:\\n    print(name)\\n    \\nfor name in B:\\n    print(name)\",\n",
       "  'for i,j in zip(L,B):\\n    print(i,j)',\n",
       "  'vars()'],\n",
       " 'Out': {5: 1, 8: ('jack', 'elon'), 27: 21},\n",
       " 'get_ipython': <bound method InteractiveShell.get_ipython of <ipykernel.zmqshell.ZMQInteractiveShell object at 0x0000018BBE9D1490>>,\n",
       " 'exit': <IPython.core.autocall.ZMQExitAutocall at 0x18bbe9d1c40>,\n",
       " 'quit': <IPython.core.autocall.ZMQExitAutocall at 0x18bbe9d1c40>,\n",
       " '_': 21,\n",
       " '__': ('jack', 'elon'),\n",
       " '___': 1,\n",
       " '_i': 'for i,j in zip(L,B):\\n    print(i,j)',\n",
       " '_ii': \"L = ['jack' , 'henry' , 'mark' , 'Luke']\\nB = ['Tyra' , 'Binny' , 'Rose' , 'Lara']\\nfor name in L:\\n    print(name)\\n    \\nfor name in B:\\n    print(name)\",\n",
       " '_iii': \"L = ['jack' , 'henry' , 'mark' , 'Luke']\\nfor name in L:\\n    print(name)\",\n",
       " '_i1': 'def Fact(n):\\n    if n == 1 or n == 0:\\n        return 1\\n    else:\\n        return n * Fact(n-1)',\n",
       " 'Fact': <function __main__.Fact(n)>,\n",
       " '_i2': 'res = Fact(3)\\nprint(res)',\n",
       " 'res': 6,\n",
       " '_i3': 'def Fact(n):\\n    if n == 1 or n == 0:\\n        return 1\\n    else:\\n        return n * Fact(n-1)',\n",
       " '_i4': 'res = Fact(3)\\nprint(res)',\n",
       " '_i5': 'Fact(0)',\n",
       " '_5': 1,\n",
       " '_i6': 'class main:\\n    a = 10\\n    def __init__(self, name):\\n        self.name = name',\n",
       " 'main': __main__.main,\n",
       " '_i7': \"s1 = main('jack')\\ns2 = main('elon')\\nprint(s1.a, s1.a)\",\n",
       " 's1': <__main__.main at 0x18bbea1c7c0>,\n",
       " 's2': <__main__.main at 0x18bbea1cb80>,\n",
       " '_i8': 's1.name , s2.name',\n",
       " '_8': ('jack', 'elon'),\n",
       " '_i9': \"s1 = main('jack')\\ns2 = main('elon')\\nprint(s1.a, s2.a)\",\n",
       " '_i10': 'a = 1\\nprint(abs(a))',\n",
       " 'a': None,\n",
       " '_i11': 'a = -1\\nprint(abs(a))',\n",
       " '_i12': 'print(True and True)',\n",
       " '_i13': 'mom = True\\ndad = True\\nprint(mom and dad)',\n",
       " 'mom': False,\n",
       " 'dad': False,\n",
       " '_i14': 'mom = True\\ndad = False\\nprint(mom and dad)',\n",
       " '_i15': 'mom = False\\ndad = False\\nprint(mom and dad)',\n",
       " '_i16': 'mom = True\\ndad = True\\nprint(mom or dad)',\n",
       " '_i17': 'mom = False\\ndad = True\\nprint(mom or dad)',\n",
       " '_i18': 'mom = False\\ndad = False\\nprint(mom or dad)',\n",
       " '_i19': 'L = [True, False, True, True, False]\\nprint(any(L))',\n",
       " 'L': ['jack', 'henry', 'mark', 'Luke'],\n",
       " '_i20': 'L = [True, False, True, True, False]\\nprint(all(L))',\n",
       " '_i21': 'L = [True, True, True]\\nprint(all(L))',\n",
       " '_i22': \"a = 'b'\\nprint(ascii(a))\",\n",
       " '_i23': \"print(ord('a'))\",\n",
       " '_i24': 'print(chr(97\\n         ))',\n",
       " '_i25': 'print(chr(97))',\n",
       " '_i26': 'number = 21\\nprint(bin(number))',\n",
       " 'number': 21,\n",
       " '_i27': \"number = int('0b10101', 2)\\nnumber\",\n",
       " '_27': 21,\n",
       " '_i28': 'a = 1\\nb = bool(a)\\nprint(b)',\n",
       " 'b': False,\n",
       " '_i29': 'a = -1\\nb = bool(a)\\nprint(b)',\n",
       " '_i30': 'a = 0\\nb = bool(a)\\nprint(b)',\n",
       " '_i31': \"a = 'vijay'\\nb = bool(a)\\nprint(b)\",\n",
       " '_i32': \"a = '' # NULL String\\nb = bool(a)\\nprint(b)\",\n",
       " '_i33': 'a = None\\nb = bool(a)\\nprint(b)',\n",
       " '_i34': \"L = ['jack' , 'henry' , 'mark' , 'Luke']\\nfor name in L:\\n    print(name)\",\n",
       " 'name': 'Lara',\n",
       " '_i35': \"L = ['jack' , 'henry' , 'mark' , 'Luke']\\nB = ['Tyra' , 'Binny' , 'Rose' , 'Lara']\\nfor name in L:\\n    print(name)\\n    \\nfor name in B:\\n    print(name)\",\n",
       " 'B': ['Tyra', 'Binny', 'Rose', 'Lara'],\n",
       " '_i36': 'for i,j in zip(L,B):\\n    print(i,j)',\n",
       " 'i': 'Luke',\n",
       " 'j': 'Lara',\n",
       " '_i37': 'vars()'}"
      ]
     },
     "execution_count": 37,
     "metadata": {},
     "output_type": "execute_result"
    }
   ],
   "source": [
    "vars()"
   ]
  },
  {
   "cell_type": "code",
   "execution_count": 38,
   "id": "3b7b9592",
   "metadata": {},
   "outputs": [
    {
     "name": "stdout",
     "output_type": "stream",
     "text": [
      "<class 'int'>\n"
     ]
    }
   ],
   "source": [
    "a = 1\n",
    "print(type(a))"
   ]
  },
  {
   "cell_type": "code",
   "execution_count": 39,
   "id": "929ecb0f",
   "metadata": {},
   "outputs": [
    {
     "name": "stdout",
     "output_type": "stream",
     "text": [
      "15\n"
     ]
    }
   ],
   "source": [
    "L = [1,2,3,4,5]\n",
    "print(sum(L))"
   ]
  },
  {
   "cell_type": "code",
   "execution_count": 40,
   "id": "1fda9bfa",
   "metadata": {},
   "outputs": [
    {
     "data": {
      "text/plain": [
       "1"
      ]
     },
     "execution_count": 40,
     "metadata": {},
     "output_type": "execute_result"
    }
   ],
   "source": [
    "min(L)"
   ]
  },
  {
   "cell_type": "code",
   "execution_count": 41,
   "id": "9db7176c",
   "metadata": {},
   "outputs": [
    {
     "data": {
      "text/plain": [
       "5"
      ]
     },
     "execution_count": 41,
     "metadata": {},
     "output_type": "execute_result"
    }
   ],
   "source": [
    "max(L)"
   ]
  },
  {
   "cell_type": "code",
   "execution_count": 42,
   "id": "5ac216cb",
   "metadata": {},
   "outputs": [
    {
     "data": {
      "text/plain": [
       "5"
      ]
     },
     "execution_count": 42,
     "metadata": {},
     "output_type": "execute_result"
    }
   ],
   "source": [
    "len(L)"
   ]
  },
  {
   "cell_type": "code",
   "execution_count": 43,
   "id": "e50fb7fa",
   "metadata": {},
   "outputs": [
    {
     "name": "stdout",
     "output_type": "stream",
     "text": [
      "mark\n"
     ]
    }
   ],
   "source": [
    "L = ['jack' , 'henry' , 'mark' , 'Luke']\n",
    "print(max(L))"
   ]
  },
  {
   "cell_type": "code",
   "execution_count": 44,
   "id": "9061471d",
   "metadata": {},
   "outputs": [
    {
     "data": {
      "text/plain": [
       "'Luke'"
      ]
     },
     "execution_count": 44,
     "metadata": {},
     "output_type": "execute_result"
    }
   ],
   "source": [
    "min(L)"
   ]
  },
  {
   "cell_type": "code",
   "execution_count": 48,
   "id": "52f6ec32",
   "metadata": {},
   "outputs": [
    {
     "data": {
      "text/plain": [
       "[31, 5, 4, 2]"
      ]
     },
     "execution_count": 48,
     "metadata": {},
     "output_type": "execute_result"
    }
   ],
   "source": [
    "L = [4,31,2,5]\n",
    "sorted(L , reverse = True)"
   ]
  },
  {
   "cell_type": "code",
   "execution_count": 46,
   "id": "373eaa47",
   "metadata": {},
   "outputs": [
    {
     "data": {
      "text/plain": [
       "8"
      ]
     },
     "execution_count": 46,
     "metadata": {},
     "output_type": "execute_result"
    }
   ],
   "source": [
    "2**3"
   ]
  },
  {
   "cell_type": "code",
   "execution_count": 47,
   "id": "4a1e9196",
   "metadata": {},
   "outputs": [
    {
     "data": {
      "text/plain": [
       "8"
      ]
     },
     "execution_count": 47,
     "metadata": {},
     "output_type": "execute_result"
    }
   ],
   "source": [
    "pow(2,3)"
   ]
  },
  {
   "cell_type": "code",
   "execution_count": 49,
   "id": "6382f201",
   "metadata": {},
   "outputs": [
    {
     "data": {
      "text/plain": [
       "2.3"
      ]
     },
     "execution_count": 49,
     "metadata": {},
     "output_type": "execute_result"
    }
   ],
   "source": [
    "round(2.345,1)"
   ]
  },
  {
   "cell_type": "code",
   "execution_count": 51,
   "id": "1f889542",
   "metadata": {},
   "outputs": [
    {
     "data": {
      "text/plain": [
       "-4630083536360710578"
      ]
     },
     "execution_count": 51,
     "metadata": {},
     "output_type": "execute_result"
    }
   ],
   "source": [
    "a = 'Vijay'\n",
    "hash(a)"
   ]
  },
  {
   "cell_type": "code",
   "execution_count": 52,
   "id": "ddd03bdd",
   "metadata": {},
   "outputs": [
    {
     "name": "stdout",
     "output_type": "stream",
     "text": [
      "1699710548144\n"
     ]
    }
   ],
   "source": [
    "print(id(a))"
   ]
  },
  {
   "cell_type": "code",
   "execution_count": 53,
   "id": "59b436b9",
   "metadata": {
    "scrolled": true
   },
   "outputs": [
    {
     "name": "stdout",
     "output_type": "stream",
     "text": [
      "1699710587968\n"
     ]
    }
   ],
   "source": [
    "print(id(L))"
   ]
  },
  {
   "cell_type": "code",
   "execution_count": 57,
   "id": "c5adab8c",
   "metadata": {},
   "outputs": [
    {
     "name": "stdout",
     "output_type": "stream",
     "text": [
      "Enter the password: harre\n",
      "Enter the password to login: harra\n",
      "Password incorrect!!\n"
     ]
    }
   ],
   "source": [
    "set_pass = hash(str(input(\"Enter the password: \")))\n",
    "\n",
    "re_pass = str(input(\"Enter the password to login: \"))\n",
    "\n",
    "has_re = hash(re_pass)\n",
    "\n",
    "if set_pass == has_re:\n",
    "    print(\"Logged in\")\n",
    "else:\n",
    "    print(\"Password incorrect!!\")\n"
   ]
  },
  {
   "cell_type": "code",
   "execution_count": 58,
   "id": "7cc5b530",
   "metadata": {},
   "outputs": [
    {
     "name": "stdout",
     "output_type": "stream",
     "text": [
      "-2977259956589390877\n"
     ]
    }
   ],
   "source": [
    "print(set_pass)"
   ]
  },
  {
   "cell_type": "code",
   "execution_count": 56,
   "id": "a33a9286",
   "metadata": {},
   "outputs": [
    {
     "name": "stdout",
     "output_type": "stream",
     "text": [
      "vijay\n"
     ]
    }
   ],
   "source": [
    "print(re_pass)"
   ]
  },
  {
   "cell_type": "code",
   "execution_count": null,
   "id": "212c7be3",
   "metadata": {},
   "outputs": [],
   "source": [
    "# vijya123 : 2354325234564 # vijay"
   ]
  }
 ],
 "metadata": {
  "kernelspec": {
   "display_name": "Python 3 (ipykernel)",
   "language": "python",
   "name": "python3"
  },
  "language_info": {
   "codemirror_mode": {
    "name": "ipython",
    "version": 3
   },
   "file_extension": ".py",
   "mimetype": "text/x-python",
   "name": "python",
   "nbconvert_exporter": "python",
   "pygments_lexer": "ipython3",
   "version": "3.9.13"
  }
 },
 "nbformat": 4,
 "nbformat_minor": 5
}
