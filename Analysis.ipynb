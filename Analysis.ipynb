{
 "cells": [
  {
   "cell_type": "code",
   "execution_count": 5,
   "id": "229652d0",
   "metadata": {},
   "outputs": [],
   "source": [
    "with open('Final_Data_of_Supplier.pkl', 'rb') as pickle_file:\n",
    "    content = pickle.load(pickle_file)"
   ]
  },
  {
   "cell_type": "code",
   "execution_count": 6,
   "id": "348fb147",
   "metadata": {},
   "outputs": [
    {
     "name": "stdout",
     "output_type": "stream",
     "text": [
      "<class 'list'>\n",
      "1841658\n"
     ]
    }
   ],
   "source": [
    "print(type(content))\n",
    "print(len(content))"
   ]
  },
  {
   "cell_type": "code",
   "execution_count": 7,
   "id": "e3d88782",
   "metadata": {},
   "outputs": [
    {
     "name": "stdout",
     "output_type": "stream",
     "text": [
      "{'Supplier Name': 'exaspring information services', 'Region': 'Caribbean', 'Country': 'Haiti', 'Function': 'Finance', 'Avg. Cost($)': 100, 'Rating': 70, 'Average Delivery Time': 650, 'Number of Escalations': 260, 'Year': 2010, 'Resources': 7000}\n",
      "{'Supplier Name': 'purpleslate private limited.', 'Region': 'Caribbean', 'Country': 'Puerto Rico', 'Function': 'Insurance', 'Avg. Cost($)': 450, 'Rating': 30, 'Average Delivery Time': 820, 'Number of Escalations': 290, 'Year': 2010, 'Resources': 8000}\n",
      "{'Supplier Name': 'ortus market research pvt ltd.', 'Region': 'Caribbean', 'Country': 'Guadeloupe', 'Function': 'Software', 'Avg. Cost($)': 50, 'Rating': 80, 'Average Delivery Time': 510, 'Number of Escalations': 25, 'Year': 2010, 'Resources': 9000}\n",
      "{'Supplier Name': 'cherri technologies', 'Region': 'Europe', 'Country': 'Andorra', 'Function': 'Software', 'Avg. Cost($)': 350, 'Rating': 30, 'Average Delivery Time': 590, 'Number of Escalations': 370, 'Year': 2010, 'Resources': 2000}\n",
      "{'Supplier Name': 'palium skills', 'Region': 'Caribbean', 'Country': 'Montserrat', 'Function': 'Finance', 'Avg. Cost($)': 250, 'Rating': 50, 'Average Delivery Time': 570, 'Number of Escalations': 415, 'Year': 2010, 'Resources': 1000}\n",
      "{'Supplier Name': 'koyo sms (india) private limited', 'Region': 'Europe', 'Country': 'Ireland', 'Function': 'Applications Development', 'Avg. Cost($)': 150, 'Rating': 60, 'Average Delivery Time': 840, 'Number of Escalations': 490, 'Year': 2010, 'Resources': 9000}\n",
      "{'Supplier Name': 'grapes innovative solutions', 'Region': 'South America', 'Country': 'Bolivia', 'Function': 'Finance', 'Avg. Cost($)': 200, 'Rating': 60, 'Average Delivery Time': 630, 'Number of Escalations': 215, 'Year': 2010, 'Resources': 1000}\n",
      "{'Supplier Name': 'bela instruments - india', 'Region': 'Central America', 'Country': 'Honduras', 'Function': 'Consulting', 'Avg. Cost($)': 100, 'Rating': 20, 'Average Delivery Time': 850, 'Number of Escalations': 200, 'Year': 2010, 'Resources': 2000}\n",
      "{'Supplier Name': 'laasma power - india', 'Region': 'South America', 'Country': 'Peru', 'Function': 'Software', 'Avg. Cost($)': 400, 'Rating': 90, 'Average Delivery Time': 840, 'Number of Escalations': 475, 'Year': 2010, 'Resources': 8000}\n",
      "{'Supplier Name': 'esquire consultancy services', 'Region': 'Oceania', 'Country': 'Guam', 'Function': 'Consulting', 'Avg. Cost($)': 300, 'Rating': 50, 'Average Delivery Time': 810, 'Number of Escalations': 165, 'Year': 2010, 'Resources': 9000}\n",
      "{'Supplier Name': 'eyeforweb', 'Region': 'South America', 'Country': 'Falkland Islands', 'Function': 'Consulting', 'Avg. Cost($)': 300, 'Rating': 10, 'Average Delivery Time': 570, 'Number of Escalations': 385, 'Year': 2010, 'Resources': 4000}\n",
      "{'Supplier Name': 'akulmach technologies', 'Region': 'Europe', 'Country': 'Iceland', 'Function': 'Marketing', 'Avg. Cost($)': 250, 'Rating': 90, 'Average Delivery Time': 830, 'Number of Escalations': 115, 'Year': 2010, 'Resources': 5000}\n",
      "{'Supplier Name': 'instalively', 'Region': 'Africa', 'Country': 'Guinea', 'Function': 'Consulting', 'Avg. Cost($)': 350, 'Rating': 20, 'Average Delivery Time': 370, 'Number of Escalations': 390, 'Year': 2010, 'Resources': 6000}\n",
      "{'Supplier Name': 'crafters india', 'Region': 'Oceania', 'Country': 'Cocos (Keeling) Islands', 'Function': 'Finance', 'Avg. Cost($)': 400, 'Rating': 90, 'Average Delivery Time': 630, 'Number of Escalations': 215, 'Year': 2010, 'Resources': 8000}\n",
      "{'Supplier Name': 'coromandel agro products and oils limited', 'Region': 'Oceania', 'Country': 'Palau', 'Function': 'Insurance', 'Avg. Cost($)': 450, 'Rating': 50, 'Average Delivery Time': 690, 'Number of Escalations': 190, 'Year': 2010, 'Resources': 3000}\n",
      "{'Supplier Name': 'tani data services', 'Region': 'South America', 'Country': 'Uruguay', 'Function': 'Marketing', 'Avg. Cost($)': 100, 'Rating': 60, 'Average Delivery Time': 900, 'Number of Escalations': 230, 'Year': 2010, 'Resources': 9000}\n",
      "{'Supplier Name': 'infinix360', 'Region': 'Oceania', 'Country': 'Tuvalu', 'Function': 'IT & Infrastructure', 'Avg. Cost($)': 100, 'Rating': 10, 'Average Delivery Time': 910, 'Number of Escalations': 460, 'Year': 2010, 'Resources': 3000}\n",
      "{'Supplier Name': 'impact systems pvt. ltd.', 'Region': 'Oceania', 'Country': 'Papua New Guinea', 'Function': 'Applications Development', 'Avg. Cost($)': 350, 'Rating': 60, 'Average Delivery Time': 850, 'Number of Escalations': 10, 'Year': 2010, 'Resources': 9000}\n",
      "{'Supplier Name': 'edoft', 'Region': 'Africa', 'Country': 'Cameroon', 'Function': 'Consulting', 'Avg. Cost($)': 250, 'Rating': 50, 'Average Delivery Time': 790, 'Number of Escalations': 445, 'Year': 2010, 'Resources': 2000}\n",
      "{'Supplier Name': 'punarnawa crafts pvt. ltd.', 'Region': 'Central America', 'Country': 'Costa Rica', 'Function': 'Marketing', 'Avg. Cost($)': 150, 'Rating': 80, 'Average Delivery Time': 290, 'Number of Escalations': 70, 'Year': 2010, 'Resources': 4000}\n",
      "{'Supplier Name': 'future campus school - india', 'Region': 'Caribbean', 'Country': 'Martinique', 'Function': 'Finance', 'Avg. Cost($)': 100, 'Rating': 80, 'Average Delivery Time': 840, 'Number of Escalations': 25, 'Year': 2010, 'Resources': 8000}\n",
      "{'Supplier Name': 'ravindra enterprises', 'Region': 'Caribbean', 'Country': 'Trinidad and Tobago', 'Function': 'Marketing', 'Avg. Cost($)': 100, 'Rating': 10, 'Average Delivery Time': 740, 'Number of Escalations': 420, 'Year': 2010, 'Resources': 6000}\n",
      "{'Supplier Name': 'little rose english high school', 'Region': 'North America', 'Country': 'Mexico', 'Function': 'Finance', 'Avg. Cost($)': 250, 'Rating': 80, 'Average Delivery Time': 550, 'Number of Escalations': 235, 'Year': 2010, 'Resources': 5000}\n",
      "{'Supplier Name': 'parishram resources pvt. ltd.', 'Region': 'Europe', 'Country': 'Slovenia', 'Function': 'Finance', 'Avg. Cost($)': 150, 'Rating': 80, 'Average Delivery Time': 360, 'Number of Escalations': 460, 'Year': 2010, 'Resources': 3000}\n",
      "{'Supplier Name': 'vartc', 'Region': 'Oceania', 'Country': 'Tokelau', 'Function': 'Applications Development', 'Avg. Cost($)': 250, 'Rating': 10, 'Average Delivery Time': 900, 'Number of Escalations': 340, 'Year': 2010, 'Resources': 1000}\n",
      "{'Supplier Name': 'shriram life insurance', 'Region': 'Caribbean', 'Country': 'Grenada', 'Function': 'Applications Development', 'Avg. Cost($)': 50, 'Rating': 20, 'Average Delivery Time': 650, 'Number of Escalations': 10, 'Year': 2010, 'Resources': 5000}\n",
      "{'Supplier Name': 'nividata consultancy', 'Region': 'South America', 'Country': 'Bolivia', 'Function': 'Applications Development', 'Avg. Cost($)': 100, 'Rating': 80, 'Average Delivery Time': 850, 'Number of Escalations': 400, 'Year': 2010, 'Resources': 2000}\n",
      "{'Supplier Name': 'hcs wellness - building healthy workplaces', 'Region': 'North America', 'Country': 'Saint Pierre and Miquelon', 'Function': 'Software', 'Avg. Cost($)': 50, 'Rating': 80, 'Average Delivery Time': 120, 'Number of Escalations': 475, 'Year': 2010, 'Resources': 7000}\n",
      "{'Supplier Name': 'shubham international', 'Region': 'North America', 'Country': 'Saint Pierre and Miquelon', 'Function': 'Insurance', 'Avg. Cost($)': 200, 'Rating': 20, 'Average Delivery Time': 190, 'Number of Escalations': 155, 'Year': 2010, 'Resources': 8000}\n",
      "{'Supplier Name': 'shree venkatesh buildcon pvt ltd', 'Region': 'Africa', 'Country': 'Zambia', 'Function': 'IT & Infrastructure', 'Avg. Cost($)': 250, 'Rating': 80, 'Average Delivery Time': 360, 'Number of Escalations': 415, 'Year': 2010, 'Resources': 2000}\n",
      "{'Supplier Name': 'achernar consulting services llp', 'Region': 'North America', 'Country': 'United States', 'Function': 'Applications Development', 'Avg. Cost($)': 450, 'Rating': 50, 'Average Delivery Time': 820, 'Number of Escalations': 250, 'Year': 2010, 'Resources': 3000}\n",
      "{'Supplier Name': 'karvy computershare', 'Region': 'South America', 'Country': 'Brazil', 'Function': 'Consulting', 'Avg. Cost($)': 450, 'Rating': 70, 'Average Delivery Time': 440, 'Number of Escalations': 30, 'Year': 2010, 'Resources': 7000}\n",
      "{'Supplier Name': 'stem electronics pvt ltd', 'Region': 'Oceania', 'Country': 'Tokelau', 'Function': 'Marketing', 'Avg. Cost($)': 300, 'Rating': 20, 'Average Delivery Time': 430, 'Number of Escalations': 420, 'Year': 2010, 'Resources': 1000}\n",
      "{'Supplier Name': 'milestone assets', 'Region': 'Europe', 'Country': 'Latvia', 'Function': 'Consulting', 'Avg. Cost($)': 300, 'Rating': 10, 'Average Delivery Time': 310, 'Number of Escalations': 45, 'Year': 2010, 'Resources': 5000}\n",
      "{'Supplier Name': 'professional home packers and movers', 'Region': 'Europe', 'Country': 'Finland', 'Function': 'Applications Development', 'Avg. Cost($)': 450, 'Rating': 70, 'Average Delivery Time': 100, 'Number of Escalations': 450, 'Year': 2010, 'Resources': 6000}\n",
      "{'Supplier Name': 'techcronus business solutions', 'Region': 'Caribbean', 'Country': 'British Virgin Islands', 'Function': 'IT & Infrastructure', 'Avg. Cost($)': 350, 'Rating': 90, 'Average Delivery Time': 800, 'Number of Escalations': 75, 'Year': 2010, 'Resources': 4000}\n",
      "{'Supplier Name': 'fab advisors and mentors pvt ltd (information centre of sikkim manipal university)', 'Region': 'North America', 'Country': 'Mexico', 'Function': 'Marketing', 'Avg. Cost($)': 350, 'Rating': 50, 'Average Delivery Time': 220, 'Number of Escalations': 345, 'Year': 2010, 'Resources': 5000}\n",
      "{'Supplier Name': 'startup arena', 'Region': 'Europe', 'Country': 'San Marino', 'Function': 'HR', 'Avg. Cost($)': 450, 'Rating': 40, 'Average Delivery Time': 320, 'Number of Escalations': 445, 'Year': 2010, 'Resources': 3000}\n",
      "{'Supplier Name': 'med hike', 'Region': 'Oceania', 'Country': 'Papua New Guinea', 'Function': 'Consulting', 'Avg. Cost($)': 450, 'Rating': 40, 'Average Delivery Time': 720, 'Number of Escalations': 430, 'Year': 2010, 'Resources': 6000}\n",
      "{'Supplier Name': 'lab and life instrumnets pvt. ltd.', 'Region': 'Caribbean', 'Country': 'Saint Vincent and the Grenadines', 'Function': 'Software', 'Avg. Cost($)': 150, 'Rating': 30, 'Average Delivery Time': 750, 'Number of Escalations': 255, 'Year': 2010, 'Resources': 1000}\n",
      "{'Supplier Name': 'siadow systems pvt. ltd', 'Region': 'South America', 'Country': 'Brazil', 'Function': 'Finance', 'Avg. Cost($)': 250, 'Rating': 20, 'Average Delivery Time': 620, 'Number of Escalations': 40, 'Year': 2010, 'Resources': 4000}\n",
      "{'Supplier Name': 'exel training', 'Region': 'Europe', 'Country': 'Luxembourg', 'Function': 'HR', 'Avg. Cost($)': 250, 'Rating': 80, 'Average Delivery Time': 430, 'Number of Escalations': 135, 'Year': 2010, 'Resources': 1000}\n",
      "{'Supplier Name': 'bigwig media - digital media solutions', 'Region': 'South America', 'Country': 'French Guiana', 'Function': 'HR', 'Avg. Cost($)': 150, 'Rating': 20, 'Average Delivery Time': 550, 'Number of Escalations': 175, 'Year': 2010, 'Resources': 9000}\n",
      "{'Supplier Name': 'bharat mineral corporation - india', 'Region': 'Africa', 'Country': 'Sudan', 'Function': 'Insurance', 'Avg. Cost($)': 350, 'Rating': 40, 'Average Delivery Time': 510, 'Number of Escalations': 190, 'Year': 2010, 'Resources': 3000}\n",
      "{'Supplier Name': 'rathi tmt saria private limited', 'Region': 'Oceania', 'Country': 'Samoa', 'Function': 'HR', 'Avg. Cost($)': 200, 'Rating': 30, 'Average Delivery Time': 350, 'Number of Escalations': 195, 'Year': 2010, 'Resources': 6000}\n",
      "{'Supplier Name': 'cross flow india', 'Region': 'Asia', 'Country': 'Georgia', 'Function': 'Consulting', 'Avg. Cost($)': 450, 'Rating': 70, 'Average Delivery Time': 170, 'Number of Escalations': 45, 'Year': 2010, 'Resources': 1000}\n",
      "{'Supplier Name': 'endo kogyo india pvt ltd', 'Region': 'Europe', 'Country': 'Norway', 'Function': 'Finance', 'Avg. Cost($)': 400, 'Rating': 70, 'Average Delivery Time': 280, 'Number of Escalations': 315, 'Year': 2010, 'Resources': 3000}\n",
      "{'Supplier Name': 'desai electronics pvt ltd', 'Region': 'Asia', 'Country': 'Brunei', 'Function': 'Insurance', 'Avg. Cost($)': 200, 'Rating': 50, 'Average Delivery Time': 370, 'Number of Escalations': 220, 'Year': 2010, 'Resources': 9000}\n",
      "{'Supplier Name': 'bookosmia private limited', 'Region': 'Asia', 'Country': 'Iran', 'Function': 'Insurance', 'Avg. Cost($)': 150, 'Rating': 10, 'Average Delivery Time': 600, 'Number of Escalations': 340, 'Year': 2010, 'Resources': 5000}\n",
      "{'Supplier Name': 'redcube marketing solutions pvt. ltd.', 'Region': 'Central America', 'Country': 'Guatemala', 'Function': 'Applications Development', 'Avg. Cost($)': 350, 'Rating': 30, 'Average Delivery Time': 850, 'Number of Escalations': 10, 'Year': 2010, 'Resources': 1000}\n",
      "{'Supplier Name': 'greycells education limited', 'Region': 'Oceania', 'Country': 'Pitcairn Islands', 'Function': 'Insurance', 'Avg. Cost($)': 300, 'Rating': 60, 'Average Delivery Time': 210, 'Number of Escalations': 275, 'Year': 2010, 'Resources': 6000}\n",
      "{'Supplier Name': 'wagon cab', 'Region': 'Oceania', 'Country': 'Solomon Islands', 'Function': 'Applications Development', 'Avg. Cost($)': 150, 'Rating': 40, 'Average Delivery Time': 810, 'Number of Escalations': 485, 'Year': 2010, 'Resources': 1000}\n",
      "{'Supplier Name': 'revvx hardware / iot accelerator', 'Region': 'South America', 'Country': 'Peru', 'Function': 'IT & Infrastructure', 'Avg. Cost($)': 150, 'Rating': 80, 'Average Delivery Time': 460, 'Number of Escalations': 380, 'Year': 2010, 'Resources': 7000}\n",
      "{'Supplier Name': 'approbus business solution', 'Region': 'Europe', 'Country': 'Luxembourg', 'Function': 'Finance', 'Avg. Cost($)': 50, 'Rating': 20, 'Average Delivery Time': 510, 'Number of Escalations': 310, 'Year': 2010, 'Resources': 6000}\n",
      "{'Supplier Name': 'indus consultrans pvt ltd', 'Region': 'Central America', 'Country': 'Honduras', 'Function': 'IT & Infrastructure', 'Avg. Cost($)': 350, 'Rating': 90, 'Average Delivery Time': 760, 'Number of Escalations': 130, 'Year': 2010, 'Resources': 4000}\n",
      "{'Supplier Name': 'mslgroup india', 'Region': 'Oceania', 'Country': 'Tuvalu', 'Function': 'IT & Infrastructure', 'Avg. Cost($)': 50, 'Rating': 50, 'Average Delivery Time': 580, 'Number of Escalations': 470, 'Year': 2010, 'Resources': 6000}\n",
      "{'Supplier Name': 'property archer', 'Region': 'North America', 'Country': 'Greenland', 'Function': 'HR', 'Avg. Cost($)': 250, 'Rating': 20, 'Average Delivery Time': 880, 'Number of Escalations': 15, 'Year': 2010, 'Resources': 4000}\n",
      "{'Supplier Name': 'bellfast management private limited', 'Region': 'Asia', 'Country': 'China', 'Function': 'Marketing', 'Avg. Cost($)': 150, 'Rating': 40, 'Average Delivery Time': 180, 'Number of Escalations': 235, 'Year': 2010, 'Resources': 1000}\n",
      "{'Supplier Name': 'commercial art engravers pvt ltd', 'Region': 'North America', 'Country': 'Greenland', 'Function': 'Consulting', 'Avg. Cost($)': 350, 'Rating': 40, 'Average Delivery Time': 180, 'Number of Escalations': 475, 'Year': 2010, 'Resources': 3000}\n",
      "{'Supplier Name': 'roshtov software industries ltd.', 'Region': 'Central America', 'Country': 'El Salvador', 'Function': 'IT & Infrastructure', 'Avg. Cost($)': 450, 'Rating': 30, 'Average Delivery Time': 180, 'Number of Escalations': 280, 'Year': 2010, 'Resources': 2000}\n",
      "{'Supplier Name': 'ss hospital - india', 'Region': 'South America', 'Country': 'Suriname', 'Function': 'Software', 'Avg. Cost($)': 350, 'Rating': 50, 'Average Delivery Time': 460, 'Number of Escalations': 230, 'Year': 2010, 'Resources': 5000}\n",
      "{'Supplier Name': 'maheshwari girls public school', 'Region': 'Oceania', 'Country': 'New Zealand', 'Function': 'Software', 'Avg. Cost($)': 150, 'Rating': 70, 'Average Delivery Time': 400, 'Number of Escalations': 435, 'Year': 2010, 'Resources': 9000}\n",
      "{'Supplier Name': 'png.enterprises', 'Region': 'North America', 'Country': 'United States', 'Function': 'Insurance', 'Avg. Cost($)': 400, 'Rating': 70, 'Average Delivery Time': 190, 'Number of Escalations': 400, 'Year': 2010, 'Resources': 4000}\n",
      "{'Supplier Name': 'umar swapna - india', 'Region': 'Central America', 'Country': 'Panama', 'Function': 'Consulting', 'Avg. Cost($)': 50, 'Rating': 70, 'Average Delivery Time': 830, 'Number of Escalations': 375, 'Year': 2010, 'Resources': 7000}\n",
      "{'Supplier Name': 'services hub', 'Region': 'Central America', 'Country': 'Honduras', 'Function': 'Marketing', 'Avg. Cost($)': 300, 'Rating': 50, 'Average Delivery Time': 450, 'Number of Escalations': 325, 'Year': 2010, 'Resources': 4000}\n",
      "{'Supplier Name': 'trichem life science limited', 'Region': 'Africa', 'Country': 'South Africa', 'Function': 'IT & Infrastructure', 'Avg. Cost($)': 450, 'Rating': 50, 'Average Delivery Time': 950, 'Number of Escalations': 55, 'Year': 2010, 'Resources': 2000}\n",
      "{'Supplier Name': 'viraltrics', 'Region': 'Asia', 'Country': 'Kazakhstan', 'Function': 'Marketing', 'Avg. Cost($)': 150, 'Rating': 40, 'Average Delivery Time': 730, 'Number of Escalations': 480, 'Year': 2010, 'Resources': 5000}\n",
      "{'Supplier Name': 'gmd consultants', 'Region': 'North America', 'Country': 'Mexico', 'Function': 'Consulting', 'Avg. Cost($)': 200, 'Rating': 10, 'Average Delivery Time': 430, 'Number of Escalations': 215, 'Year': 2010, 'Resources': 7000}\n",
      "{'Supplier Name': 'durgapur chemicals ltd', 'Region': 'Caribbean', 'Country': 'Jamaica', 'Function': 'Finance', 'Avg. Cost($)': 200, 'Rating': 10, 'Average Delivery Time': 290, 'Number of Escalations': 420, 'Year': 2010, 'Resources': 7000}\n",
      "{'Supplier Name': 'palred technologies limited', 'Region': 'Asia', 'Country': 'Hong Kong', 'Function': 'Software', 'Avg. Cost($)': 150, 'Rating': 30, 'Average Delivery Time': 990, 'Number of Escalations': 305, 'Year': 2010, 'Resources': 4000}\n",
      "{'Supplier Name': 'syum labs - syum technology pvt ltd-', 'Region': 'Europe', 'Country': 'Germany', 'Function': 'Consulting', 'Avg. Cost($)': 450, 'Rating': 30, 'Average Delivery Time': 390, 'Number of Escalations': 450, 'Year': 2010, 'Resources': 7000}\n",
      "{'Supplier Name': 'essensys software pvt. ltd.', 'Region': 'North America', 'Country': 'United States', 'Function': 'Consulting', 'Avg. Cost($)': 250, 'Rating': 10, 'Average Delivery Time': 980, 'Number of Escalations': 425, 'Year': 2010, 'Resources': 2000}\n",
      "{'Supplier Name': 'carpedieum', 'Region': 'Asia', 'Country': 'Bhutan', 'Function': 'Software', 'Avg. Cost($)': 350, 'Rating': 10, 'Average Delivery Time': 140, 'Number of Escalations': 40, 'Year': 2010, 'Resources': 9000}\n",
      "{'Supplier Name': 'mobiphy', 'Region': 'South America', 'Country': 'Brazil', 'Function': 'Software', 'Avg. Cost($)': 250, 'Rating': 30, 'Average Delivery Time': 880, 'Number of Escalations': 245, 'Year': 2010, 'Resources': 6000}\n",
      "{'Supplier Name': 'kirpalaney & associates (engineers) private limited', 'Region': 'Europe', 'Country': 'Belarus', 'Function': 'IT & Infrastructure', 'Avg. Cost($)': 350, 'Rating': 60, 'Average Delivery Time': 700, 'Number of Escalations': 360, 'Year': 2010, 'Resources': 2000}\n",
      "{'Supplier Name': 'hi power solution - india', 'Region': 'Asia', 'Country': 'Armenia', 'Function': 'Software', 'Avg. Cost($)': 200, 'Rating': 80, 'Average Delivery Time': 100, 'Number of Escalations': 260, 'Year': 2010, 'Resources': 5000}\n",
      "{'Supplier Name': 'the sandur manganese and iron ores limited', 'Region': 'Europe', 'Country': 'Denmark', 'Function': 'Software', 'Avg. Cost($)': 150, 'Rating': 80, 'Average Delivery Time': 550, 'Number of Escalations': 100, 'Year': 2010, 'Resources': 3000}\n",
      "{'Supplier Name': 'pioneer polyfeb limited', 'Region': 'Oceania', 'Country': 'Fiji', 'Function': 'Finance', 'Avg. Cost($)': 200, 'Rating': 80, 'Average Delivery Time': 850, 'Number of Escalations': 95, 'Year': 2010, 'Resources': 3000}\n",
      "{'Supplier Name': 'jack solutions', 'Region': 'South America', 'Country': 'Brazil', 'Function': 'Insurance', 'Avg. Cost($)': 350, 'Rating': 60, 'Average Delivery Time': 220, 'Number of Escalations': 485, 'Year': 2010, 'Resources': 2000}\n",
      "{'Supplier Name': 'netrika consulting india pvt ltd', 'Region': 'South America', 'Country': 'Argentina', 'Function': 'Applications Development', 'Avg. Cost($)': 400, 'Rating': 20, 'Average Delivery Time': 700, 'Number of Escalations': 255, 'Year': 2010, 'Resources': 1000}\n",
      "{'Supplier Name': 'r. r. logic systems private limited', 'Region': 'North America', 'Country': 'Canada', 'Function': 'IT & Infrastructure', 'Avg. Cost($)': 250, 'Rating': 60, 'Average Delivery Time': 160, 'Number of Escalations': 445, 'Year': 2010, 'Resources': 5000}\n",
      "{'Supplier Name': 'aurora recruitment consulting', 'Region': 'Central America', 'Country': 'Belize', 'Function': 'Marketing', 'Avg. Cost($)': 300, 'Rating': 40, 'Average Delivery Time': 240, 'Number of Escalations': 200, 'Year': 2010, 'Resources': 6000}\n",
      "{'Supplier Name': 'isha arogya pvt ltd', 'Region': 'Central America', 'Country': 'Nicaragua', 'Function': 'Insurance', 'Avg. Cost($)': 400, 'Rating': 30, 'Average Delivery Time': 160, 'Number of Escalations': 320, 'Year': 2010, 'Resources': 3000}\n",
      "{'Supplier Name': 'vajrin software', 'Region': 'Oceania', 'Country': 'Kiribati', 'Function': 'Finance', 'Avg. Cost($)': 250, 'Rating': 50, 'Average Delivery Time': 560, 'Number of Escalations': 205, 'Year': 2010, 'Resources': 7000}\n",
      "{'Supplier Name': 'angel pumps - india', 'Region': 'Africa', 'Country': 'South Sudan', 'Function': 'Consulting', 'Avg. Cost($)': 50, 'Rating': 90, 'Average Delivery Time': 490, 'Number of Escalations': 35, 'Year': 2010, 'Resources': 3000}\n",
      "{'Supplier Name': 'star imaging and path lab', 'Region': 'Oceania', 'Country': 'Nauru', 'Function': 'Finance', 'Avg. Cost($)': 400, 'Rating': 70, 'Average Delivery Time': 380, 'Number of Escalations': 5, 'Year': 2010, 'Resources': 4000}\n",
      "{'Supplier Name': 'a4academics.com', 'Region': 'South America', 'Country': 'Chile', 'Function': 'HR', 'Avg. Cost($)': 200, 'Rating': 50, 'Average Delivery Time': 610, 'Number of Escalations': 415, 'Year': 2010, 'Resources': 9000}\n",
      "{'Supplier Name': 'the app science', 'Region': 'South America', 'Country': 'Venezuela', 'Function': 'HR', 'Avg. Cost($)': 400, 'Rating': 10, 'Average Delivery Time': 660, 'Number of Escalations': 5, 'Year': 2010, 'Resources': 6000}\n",
      "{'Supplier Name': 'mokome ltd.', 'Region': 'Africa', 'Country': 'Botswana', 'Function': 'Insurance', 'Avg. Cost($)': 200, 'Rating': 60, 'Average Delivery Time': 660, 'Number of Escalations': 75, 'Year': 2010, 'Resources': 6000}\n",
      "{'Supplier Name': 'aditya infotech ltd', 'Region': 'Oceania', 'Country': 'Solomon Islands', 'Function': 'IT & Infrastructure', 'Avg. Cost($)': 450, 'Rating': 50, 'Average Delivery Time': 720, 'Number of Escalations': 180, 'Year': 2010, 'Resources': 1000}\n",
      "{'Supplier Name': 'red launchers pvt. ltd.', 'Region': 'Caribbean', 'Country': 'Grenada', 'Function': 'IT & Infrastructure', 'Avg. Cost($)': 150, 'Rating': 90, 'Average Delivery Time': 450, 'Number of Escalations': 385, 'Year': 2010, 'Resources': 5000}\n",
      "{'Supplier Name': 'spaceage switchgears ltd. - india', 'Region': 'South America', 'Country': 'Guyana', 'Function': 'Software', 'Avg. Cost($)': 150, 'Rating': 50, 'Average Delivery Time': 370, 'Number of Escalations': 225, 'Year': 2010, 'Resources': 8000}\n",
      "{'Supplier Name': 'ascent total solution pvt. ltd.', 'Region': 'South America', 'Country': 'Guyana', 'Function': 'Insurance', 'Avg. Cost($)': 200, 'Rating': 50, 'Average Delivery Time': 630, 'Number of Escalations': 115, 'Year': 2010, 'Resources': 1000}\n",
      "{'Supplier Name': 'taj agro', 'Region': 'Africa', 'Country': 'Gambia', 'Function': 'HR', 'Avg. Cost($)': 250, 'Rating': 60, 'Average Delivery Time': 660, 'Number of Escalations': 135, 'Year': 2010, 'Resources': 2000}\n",
      "{'Supplier Name': 'christy quality foods india pvt ltd', 'Region': 'North America', 'Country': 'United States', 'Function': 'Finance', 'Avg. Cost($)': 100, 'Rating': 20, 'Average Delivery Time': 740, 'Number of Escalations': 165, 'Year': 2010, 'Resources': 7000}\n",
      "{'Supplier Name': 'SBI Life Insurance Co. Ltd.', 'Region': 'Central America', 'Country': 'Belize', 'Function': 'Applications Development', 'Avg. Cost($)': 150, 'Rating': 80, 'Average Delivery Time': 250, 'Number of Escalations': 320, 'Year': 2010, 'Resources': 1000}\n",
      "{'Supplier Name': 'Tata Motors Limited', 'Region': 'Africa', 'Country': 'Equatorial Guinea', 'Function': 'Software', 'Avg. Cost($)': 50, 'Rating': 30, 'Average Delivery Time': 560, 'Number of Escalations': 100, 'Year': 2010, 'Resources': 3000}\n",
      "{'Supplier Name': 'horizon creations pvt ltd - india', 'Region': 'Central America', 'Country': 'Guatemala', 'Function': 'HR', 'Avg. Cost($)': 450, 'Rating': 50, 'Average Delivery Time': 280, 'Number of Escalations': 120, 'Year': 2010, 'Resources': 7000}\n",
      "{'Supplier Name': 'verum teknoloji ve danışmanlık', 'Region': 'South America', 'Country': 'Brazil', 'Function': 'Applications Development', 'Avg. Cost($)': 100, 'Rating': 40, 'Average Delivery Time': 730, 'Number of Escalations': 365, 'Year': 2010, 'Resources': 5000}\n",
      "{'Supplier Name': 'noval waste management', 'Region': 'Oceania', 'Country': 'New Caledonia', 'Function': 'Insurance', 'Avg. Cost($)': 350, 'Rating': 10, 'Average Delivery Time': 440, 'Number of Escalations': 475, 'Year': 2010, 'Resources': 5000}\n",
      "0.003010988235473633\n"
     ]
    }
   ],
   "source": [
    "import time \n",
    "\n",
    "start = time.time()\n",
    "\n",
    "for i in range(100):\n",
    "    print(content[i])\n",
    "\n",
    "\n",
    "end = time.time()\n",
    "\n",
    "print(end - start)"
   ]
  },
  {
   "cell_type": "code",
   "execution_count": 8,
   "id": "54d01a03",
   "metadata": {},
   "outputs": [
    {
     "name": "stdout",
     "output_type": "stream",
     "text": [
      "0.28324341773986816\n"
     ]
    }
   ],
   "source": [
    "import time \n",
    "\n",
    "start = time.time()\n",
    "\n",
    "for i in content:\n",
    "    a = len(i)\n",
    "\n",
    "\n",
    "end = time.time()\n",
    "\n",
    "print(end - start)"
   ]
  },
  {
   "cell_type": "code",
   "execution_count": 12,
   "id": "8657c03c",
   "metadata": {},
   "outputs": [
    {
     "name": "stdout",
     "output_type": "stream",
     "text": [
      "1841658\n"
     ]
    }
   ],
   "source": [
    "print(len(content))"
   ]
  },
  {
   "cell_type": "code",
   "execution_count": 13,
   "id": "462b3db5",
   "metadata": {},
   "outputs": [
    {
     "data": {
      "text/plain": [
       "{'Supplier Name': 'xorstack',\n",
       " 'Region': 'Asia',\n",
       " 'Country': 'Uzbekistan',\n",
       " 'Function': 'Insurance',\n",
       " 'Avg. Cost($)': 400,\n",
       " 'Rating': 20,\n",
       " 'Average Delivery Time': 130,\n",
       " 'Number of Escalations': 370,\n",
       " 'Year': 2022,\n",
       " 'Resources': 4000}"
      ]
     },
     "execution_count": 13,
     "metadata": {},
     "output_type": "execute_result"
    }
   ],
   "source": [
    "content[1841650]"
   ]
  },
  {
   "cell_type": "code",
   "execution_count": 15,
   "id": "57c1b480",
   "metadata": {},
   "outputs": [
    {
     "name": "stdout",
     "output_type": "stream",
     "text": [
      "{'Supplier Name': 'Infosys', 'Region': 'Africa', 'Country': 'Seychelles', 'Function': 'Finance', 'Avg. Cost($)': 350, 'Rating': 40, 'Average Delivery Time': 430, 'Number of Escalations': 435, 'Year': 2010, 'Resources': 3000}\n",
      "{'Supplier Name': 'Infosys', 'Region': 'Central America', 'Country': 'Panama', 'Function': 'IT & Infrastructure', 'Avg. Cost($)': 200, 'Rating': 20, 'Average Delivery Time': 100, 'Number of Escalations': 285, 'Year': 2011, 'Resources': 9000}\n",
      "{'Supplier Name': 'Infosys', 'Region': 'Oceania', 'Country': 'Samoa', 'Function': 'Consulting', 'Avg. Cost($)': 50, 'Rating': 60, 'Average Delivery Time': 310, 'Number of Escalations': 490, 'Year': 2012, 'Resources': 4000}\n",
      "{'Supplier Name': 'Infosys', 'Region': 'Oceania', 'Country': 'and Wallis', 'Function': 'Consulting', 'Avg. Cost($)': 250, 'Rating': 80, 'Average Delivery Time': 220, 'Number of Escalations': 160, 'Year': 2013, 'Resources': 3000}\n",
      "{'Supplier Name': 'Infosys', 'Region': 'Asia', 'Country': 'Jordan', 'Function': 'Marketing', 'Avg. Cost($)': 400, 'Rating': 80, 'Average Delivery Time': 820, 'Number of Escalations': 330, 'Year': 2014, 'Resources': 5000}\n",
      "{'Supplier Name': 'Infosys', 'Region': 'Caribbean', 'Country': 'Netherlands Antilles', 'Function': 'Marketing', 'Avg. Cost($)': 200, 'Rating': 60, 'Average Delivery Time': 870, 'Number of Escalations': 20, 'Year': 2015, 'Resources': 3000}\n",
      "{'Supplier Name': 'Infosys', 'Region': 'North America', 'Country': 'Greenland', 'Function': 'IT & Infrastructure', 'Avg. Cost($)': 100, 'Rating': 10, 'Average Delivery Time': 220, 'Number of Escalations': 285, 'Year': 2016, 'Resources': 6000}\n",
      "{'Supplier Name': 'Infosys', 'Region': 'Africa', 'Country': 'Namibia', 'Function': 'Software', 'Avg. Cost($)': 100, 'Rating': 90, 'Average Delivery Time': 490, 'Number of Escalations': 310, 'Year': 2017, 'Resources': 6000}\n",
      "{'Supplier Name': 'Infosys', 'Region': 'Europe', 'Country': 'Slovak Republic', 'Function': 'Software', 'Avg. Cost($)': 400, 'Rating': 60, 'Average Delivery Time': 530, 'Number of Escalations': 260, 'Year': 2018, 'Resources': 8000}\n",
      "{'Supplier Name': 'Infosys', 'Region': 'Europe', 'Country': 'Netherlands', 'Function': 'Marketing', 'Avg. Cost($)': 200, 'Rating': 70, 'Average Delivery Time': 100, 'Number of Escalations': 125, 'Year': 2019, 'Resources': 7000}\n",
      "{'Supplier Name': 'Infosys', 'Region': 'Oceania', 'Country': 'Cook Islands', 'Function': 'Applications Development', 'Avg. Cost($)': 50, 'Rating': 20, 'Average Delivery Time': 410, 'Number of Escalations': 270, 'Year': 2020, 'Resources': 1000}\n",
      "{'Supplier Name': 'Infosys', 'Region': 'North America', 'Country': 'Saint Pierre and Miquelon', 'Function': 'Finance', 'Avg. Cost($)': 350, 'Rating': 70, 'Average Delivery Time': 720, 'Number of Escalations': 420, 'Year': 2021, 'Resources': 2000}\n",
      "{'Supplier Name': 'Infosys', 'Region': 'South America', 'Country': 'Colombia', 'Function': 'Finance', 'Avg. Cost($)': 300, 'Rating': 90, 'Average Delivery Time': 460, 'Number of Escalations': 235, 'Year': 2022, 'Resources': 3000}\n",
      "0.2301177978515625\n"
     ]
    }
   ],
   "source": [
    "import time \n",
    "\n",
    "company = 'xorstack'\n",
    "\n",
    "start = time.time()\n",
    "\n",
    "for i in content:\n",
    "    if i['Supplier Name'] == 'Infosys':\n",
    "        print(i)\n",
    "\n",
    "\n",
    "end = time.time()\n",
    "\n",
    "print(end - start)"
   ]
  },
  {
   "cell_type": "code",
   "execution_count": null,
   "id": "2332df1b",
   "metadata": {},
   "outputs": [],
   "source": []
  }
 ],
 "metadata": {
  "kernelspec": {
   "display_name": "Python 3 (ipykernel)",
   "language": "python",
   "name": "python3"
  },
  "language_info": {
   "codemirror_mode": {
    "name": "ipython",
    "version": 3
   },
   "file_extension": ".py",
   "mimetype": "text/x-python",
   "name": "python",
   "nbconvert_exporter": "python",
   "pygments_lexer": "ipython3",
   "version": "3.9.13"
  }
 },
 "nbformat": 4,
 "nbformat_minor": 5
}
